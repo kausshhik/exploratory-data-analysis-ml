{
 "cells": [
  {
   "cell_type": "code",
   "execution_count": 1,
   "id": "f40c933b",
   "metadata": {},
   "outputs": [],
   "source": [
    "#import libraries\n",
    "import pandas as pd\n",
    "import numpy as np\n",
    "import matplotlib.pyplot as plt\n",
    "%matplotlib inline\n",
    "import seaborn as sns\n",
    "import warnings\n",
    "warnings.filterwarnings('ignore')"
   ]
  },
  {
   "cell_type": "code",
   "execution_count": 3,
   "id": "59570b99",
   "metadata": {},
   "outputs": [],
   "source": [
    "df_country_manuf = pd.read_csv('country_vaccinations_by_manufacturer.csv')"
   ]
  },
  {
   "cell_type": "code",
   "execution_count": 5,
   "id": "f14eba8b",
   "metadata": {},
   "outputs": [],
   "source": [
    "df_country_vac = pd.read_csv('country_vaccinations.csv')"
   ]
  },
  {
   "cell_type": "code",
   "execution_count": 17,
   "id": "29b3102c",
   "metadata": {
    "scrolled": true
   },
   "outputs": [
    {
     "data": {
      "text/plain": [
       "location              object\n",
       "date                  object\n",
       "vaccine               object\n",
       "total_vaccinations     int64\n",
       "dtype: object"
      ]
     },
     "execution_count": 17,
     "metadata": {},
     "output_type": "execute_result"
    }
   ],
   "source": [
    "df_country_manuf.dtypes"
   ]
  },
  {
   "cell_type": "code",
   "execution_count": 27,
   "id": "03c089e6",
   "metadata": {},
   "outputs": [
    {
     "data": {
      "text/plain": [
       "country                                 object\n",
       "iso_code                                object\n",
       "date                                    object\n",
       "total_vaccinations                     float64\n",
       "people_vaccinated                      float64\n",
       "people_fully_vaccinated                float64\n",
       "daily_vaccinations_raw                 float64\n",
       "daily_vaccinations                     float64\n",
       "total_vaccinations_per_hundred         float64\n",
       "people_vaccinated_per_hundred          float64\n",
       "people_fully_vaccinated_per_hundred    float64\n",
       "daily_vaccinations_per_million         float64\n",
       "vaccines                                object\n",
       "source_name                             object\n",
       "source_website                          object\n",
       "dtype: object"
      ]
     },
     "execution_count": 27,
     "metadata": {},
     "output_type": "execute_result"
    }
   ],
   "source": [
    "df_country_vac.dtypes"
   ]
  },
  {
   "cell_type": "code",
   "execution_count": 20,
   "id": "161235d2",
   "metadata": {},
   "outputs": [
    {
     "data": {
      "text/plain": [
       "location              4685\n",
       "date                  4685\n",
       "vaccine               4685\n",
       "total_vaccinations    4685\n",
       "dtype: int64"
      ]
     },
     "execution_count": 20,
     "metadata": {},
     "output_type": "execute_result"
    }
   ],
   "source": [
    "df_country_manuf.count()"
   ]
  },
  {
   "cell_type": "code",
   "execution_count": 21,
   "id": "1737168b",
   "metadata": {},
   "outputs": [
    {
     "data": {
      "text/plain": [
       "country                                21628\n",
       "iso_code                               21628\n",
       "date                                   21628\n",
       "total_vaccinations                     12275\n",
       "people_vaccinated                      11479\n",
       "people_fully_vaccinated                 8967\n",
       "daily_vaccinations_raw                 10187\n",
       "daily_vaccinations                     21412\n",
       "total_vaccinations_per_hundred         12275\n",
       "people_vaccinated_per_hundred          11479\n",
       "people_fully_vaccinated_per_hundred     8967\n",
       "daily_vaccinations_per_million         21412\n",
       "vaccines                               21628\n",
       "source_name                            21628\n",
       "source_website                         21628\n",
       "dtype: int64"
      ]
     },
     "execution_count": 21,
     "metadata": {},
     "output_type": "execute_result"
    }
   ],
   "source": [
    "df_country_vac.count()"
   ]
  },
  {
   "cell_type": "code",
   "execution_count": 25,
   "id": "fe7d2395",
   "metadata": {},
   "outputs": [],
   "source": [
    "df_cntry_mnf = df_country_manuf.copy()"
   ]
  },
  {
   "cell_type": "code",
   "execution_count": 26,
   "id": "a8d5a6f2",
   "metadata": {},
   "outputs": [],
   "source": [
    "df_cntry_vac = df_country_vac.copy()"
   ]
  },
  {
   "cell_type": "code",
   "execution_count": null,
   "id": "52587f19",
   "metadata": {},
   "outputs": [],
   "source": []
  }
 ],
 "metadata": {
  "kernelspec": {
   "display_name": "Python 3",
   "language": "python",
   "name": "python3"
  },
  "language_info": {
   "codemirror_mode": {
    "name": "ipython",
    "version": 3
   },
   "file_extension": ".py",
   "mimetype": "text/x-python",
   "name": "python",
   "nbconvert_exporter": "python",
   "pygments_lexer": "ipython3",
   "version": "3.6.13"
  }
 },
 "nbformat": 4,
 "nbformat_minor": 5
}
