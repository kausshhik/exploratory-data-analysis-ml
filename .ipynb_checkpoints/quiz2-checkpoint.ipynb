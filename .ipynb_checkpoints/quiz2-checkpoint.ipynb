{
 "cells": [
  {
   "cell_type": "code",
   "execution_count": 1,
   "id": "20326de6",
   "metadata": {},
   "outputs": [],
   "source": [
    "import pandas as pd\n",
    "import seaborn as sns\n",
    "import numpy as np\n",
    "import matplotlib.pyplot as plt\n",
    "%matplotlib inline\n",
    "\n",
    "import warnings\n",
    "warnings.filterwarnings('ignore')"
   ]
  },
  {
   "cell_type": "code",
   "execution_count": 2,
   "id": "93def8d7",
   "metadata": {},
   "outputs": [],
   "source": [
    "df_odi_main = pd.read_csv('Dateset_ODI.csv')"
   ]
  },
  {
   "cell_type": "code",
   "execution_count": 3,
   "id": "3620a8f9",
   "metadata": {},
   "outputs": [],
   "source": [
    "df_odi = df_odi_main.copy()"
   ]
  },
  {
   "cell_type": "code",
   "execution_count": 4,
   "id": "fa5299ed",
   "metadata": {},
   "outputs": [
    {
     "data": {
      "text/html": [
       "<div>\n",
       "<style scoped>\n",
       "    .dataframe tbody tr th:only-of-type {\n",
       "        vertical-align: middle;\n",
       "    }\n",
       "\n",
       "    .dataframe tbody tr th {\n",
       "        vertical-align: top;\n",
       "    }\n",
       "\n",
       "    .dataframe thead th {\n",
       "        text-align: right;\n",
       "    }\n",
       "</style>\n",
       "<table border=\"1\" class=\"dataframe\">\n",
       "  <thead>\n",
       "    <tr style=\"text-align: right;\">\n",
       "      <th></th>\n",
       "      <th>Scorecard</th>\n",
       "      <th>Team 1</th>\n",
       "      <th>Team 2</th>\n",
       "      <th>Winner</th>\n",
       "      <th>Margin</th>\n",
       "      <th>Ground</th>\n",
       "      <th>Match Date</th>\n",
       "    </tr>\n",
       "  </thead>\n",
       "  <tbody>\n",
       "    <tr>\n",
       "      <th>0</th>\n",
       "      <td>ODI # 1</td>\n",
       "      <td>Australia</td>\n",
       "      <td>England</td>\n",
       "      <td>Australia</td>\n",
       "      <td>5 wickets</td>\n",
       "      <td>Melbourne</td>\n",
       "      <td>Jan 5, 1971</td>\n",
       "    </tr>\n",
       "    <tr>\n",
       "      <th>1</th>\n",
       "      <td>ODI # 2</td>\n",
       "      <td>England</td>\n",
       "      <td>Australia</td>\n",
       "      <td>England</td>\n",
       "      <td>6 wickets</td>\n",
       "      <td>Manchester</td>\n",
       "      <td>Aug 24, 1972</td>\n",
       "    </tr>\n",
       "    <tr>\n",
       "      <th>2</th>\n",
       "      <td>ODI # 3</td>\n",
       "      <td>England</td>\n",
       "      <td>Australia</td>\n",
       "      <td>Australia</td>\n",
       "      <td>5 wickets</td>\n",
       "      <td>Lord's</td>\n",
       "      <td>Aug 26, 1972</td>\n",
       "    </tr>\n",
       "    <tr>\n",
       "      <th>3</th>\n",
       "      <td>ODI # 4</td>\n",
       "      <td>England</td>\n",
       "      <td>Australia</td>\n",
       "      <td>England</td>\n",
       "      <td>2 wickets</td>\n",
       "      <td>Birmingham</td>\n",
       "      <td>Aug 28, 1972</td>\n",
       "    </tr>\n",
       "    <tr>\n",
       "      <th>4</th>\n",
       "      <td>ODI # 5</td>\n",
       "      <td>New Zealand</td>\n",
       "      <td>Pakistan</td>\n",
       "      <td>New Zealand</td>\n",
       "      <td>22 runs</td>\n",
       "      <td>Christchurch</td>\n",
       "      <td>Feb 11, 1973</td>\n",
       "    </tr>\n",
       "  </tbody>\n",
       "</table>\n",
       "</div>"
      ],
      "text/plain": [
       "  Scorecard       Team 1     Team 2       Winner     Margin        Ground  \\\n",
       "0   ODI # 1    Australia    England    Australia  5 wickets     Melbourne   \n",
       "1   ODI # 2      England  Australia      England  6 wickets    Manchester   \n",
       "2   ODI # 3      England  Australia    Australia  5 wickets        Lord's   \n",
       "3   ODI # 4      England  Australia      England  2 wickets    Birmingham   \n",
       "4   ODI # 5  New Zealand   Pakistan  New Zealand    22 runs  Christchurch   \n",
       "\n",
       "     Match Date  \n",
       "0   Jan 5, 1971  \n",
       "1  Aug 24, 1972  \n",
       "2  Aug 26, 1972  \n",
       "3  Aug 28, 1972  \n",
       "4  Feb 11, 1973  "
      ]
     },
     "execution_count": 4,
     "metadata": {},
     "output_type": "execute_result"
    }
   ],
   "source": [
    "df_odi.head()"
   ]
  },
  {
   "cell_type": "code",
   "execution_count": 5,
   "id": "d18575ae",
   "metadata": {},
   "outputs": [
    {
     "data": {
      "text/plain": [
       "Scorecard       0\n",
       "Team 1          0\n",
       "Team 2          0\n",
       "Winner          0\n",
       "Margin        179\n",
       "Ground          0\n",
       "Match Date      0\n",
       "dtype: int64"
      ]
     },
     "execution_count": 5,
     "metadata": {},
     "output_type": "execute_result"
    }
   ],
   "source": [
    "df_odi.isnull().sum()"
   ]
  },
  {
   "cell_type": "code",
   "execution_count": 7,
   "id": "70514360",
   "metadata": {},
   "outputs": [],
   "source": [
    "df_odi = df_odi.fillna('NA')"
   ]
  },
  {
   "cell_type": "code",
   "execution_count": 9,
   "id": "98e4c7bd",
   "metadata": {},
   "outputs": [
    {
     "data": {
      "text/plain": [
       "Scorecard     0\n",
       "Team 1        0\n",
       "Team 2        0\n",
       "Winner        0\n",
       "Margin        0\n",
       "Ground        0\n",
       "Match Date    0\n",
       "dtype: int64"
      ]
     },
     "execution_count": 9,
     "metadata": {},
     "output_type": "execute_result"
    }
   ],
   "source": [
    "df_odi.isnull().sum()"
   ]
  },
  {
   "cell_type": "code",
   "execution_count": 11,
   "id": "a0ca1e40",
   "metadata": {},
   "outputs": [
    {
     "data": {
      "text/plain": [
       "0"
      ]
     },
     "execution_count": 11,
     "metadata": {},
     "output_type": "execute_result"
    }
   ],
   "source": [
    "df_odi.duplicated().sum()"
   ]
  },
  {
   "cell_type": "code",
   "execution_count": 15,
   "id": "c1cc7346",
   "metadata": {},
   "outputs": [
    {
     "data": {
      "text/plain": [
       "Sharjah       228\n",
       "Dhaka         156\n",
       "Sydney        154\n",
       "Melbourne     147\n",
       "Harare        136\n",
       "             ... \n",
       "Mackay          1\n",
       "Hove            1\n",
       "Nairobi         1\n",
       "Launceston      1\n",
       "Kwekwe          1\n",
       "Name: Ground, Length: 173, dtype: int64"
      ]
     },
     "execution_count": 15,
     "metadata": {},
     "output_type": "execute_result"
    }
   ],
   "source": [
    "df_odi['Ground'].value_counts()"
   ]
  },
  {
   "cell_type": "code",
   "execution_count": 16,
   "id": "259ce40c",
   "metadata": {},
   "outputs": [
    {
     "data": {
      "text/plain": [
       "Pakistan        83\n",
       "India           35\n",
       "Sri Lanka       29\n",
       "West Indies     19\n",
       "Australia       14\n",
       "South Africa    10\n",
       "New Zealand      9\n",
       "Afghanistan      9\n",
       "England          8\n",
       "Zimbabwe         8\n",
       "tied             2\n",
       "Netherlands      1\n",
       "Canada           1\n",
       "Name: Winner, dtype: int64"
      ]
     },
     "execution_count": 16,
     "metadata": {},
     "output_type": "execute_result"
    }
   ],
   "source": [
    "df_sharjah = df_odi[df_odi['Ground'] == 'Sharjah']\n",
    "\n",
    "df_sharjah['Winner'].value_counts()"
   ]
  },
  {
   "cell_type": "code",
   "execution_count": null,
   "id": "57b5cebe",
   "metadata": {},
   "outputs": [],
   "source": []
  },
  {
   "cell_type": "code",
   "execution_count": 18,
   "id": "6bf11109",
   "metadata": {},
   "outputs": [
    {
     "data": {
      "text/plain": [
       "Feb 4, 2007     6\n",
       "Jun 20, 1983    4\n",
       "Jul 10, 2010    4\n",
       "Jun 18, 1983    4\n",
       "Feb 2, 2007     4\n",
       "               ..\n",
       "Jan 13, 2003    1\n",
       "Nov 11, 1998    1\n",
       "Jun 12, 2015    1\n",
       "Jan 23, 1986    1\n",
       "Nov 9, 2008     1\n",
       "Name: Match Date, Length: 3386, dtype: int64"
      ]
     },
     "execution_count": 18,
     "metadata": {},
     "output_type": "execute_result"
    }
   ],
   "source": [
    "df_odi['Match Date'].value_counts()"
   ]
  },
  {
   "cell_type": "code",
   "execution_count": 19,
   "id": "fab0ccd3",
   "metadata": {},
   "outputs": [
    {
     "data": {
      "text/plain": [
       "Sydney        85\n",
       "Melbourne     74\n",
       "Adelaide      34\n",
       "Perth         29\n",
       "Brisbane      23\n",
       "              ..\n",
       "Faisalabad     1\n",
       "Benoni         1\n",
       "New Delhi      1\n",
       "Belfast        1\n",
       "Chandigarh     1\n",
       "Name: Ground, Length: 97, dtype: int64"
      ]
     },
     "execution_count": 19,
     "metadata": {},
     "output_type": "execute_result"
    }
   ],
   "source": [
    "df_aus = df_odi[df_odi['Winner'] == 'Australia']\n",
    "\n",
    "df_aus['Ground'].value_counts()"
   ]
  },
  {
   "cell_type": "code",
   "execution_count": 22,
   "id": "82134dcd",
   "metadata": {},
   "outputs": [],
   "source": [
    "df_winner_team2 = df_odi[df_odi['Winner'] == df_odi['Team 2']]"
   ]
  },
  {
   "cell_type": "code",
   "execution_count": 23,
   "id": "b2230514",
   "metadata": {},
   "outputs": [
    {
     "name": "stdout",
     "output_type": "stream",
     "text": [
      "<class 'pandas.core.frame.DataFrame'>\n",
      "Int64Index: 1637 entries, 2 to 3927\n",
      "Data columns (total 7 columns):\n",
      " #   Column      Non-Null Count  Dtype \n",
      "---  ------      --------------  ----- \n",
      " 0   Scorecard   1637 non-null   object\n",
      " 1   Team 1      1637 non-null   object\n",
      " 2   Team 2      1637 non-null   object\n",
      " 3   Winner      1637 non-null   object\n",
      " 4   Margin      1637 non-null   object\n",
      " 5   Ground      1637 non-null   object\n",
      " 6   Match Date  1637 non-null   object\n",
      "dtypes: object(7)\n",
      "memory usage: 102.3+ KB\n"
     ]
    }
   ],
   "source": [
    "df_winner_team2.info()"
   ]
  },
  {
   "cell_type": "code",
   "execution_count": 25,
   "id": "adf556b7",
   "metadata": {},
   "outputs": [
    {
     "data": {
      "text/plain": [
       "England         23\n",
       "Australia       12\n",
       "West Indies      6\n",
       "India            4\n",
       "Pakistan         4\n",
       "Sri Lanka        4\n",
       "New Zealand      3\n",
       "tied             2\n",
       "South Africa     1\n",
       "no result        1\n",
       "Name: Winner, dtype: int64"
      ]
     },
     "execution_count": 25,
     "metadata": {},
     "output_type": "execute_result"
    }
   ],
   "source": [
    "df_lords = df_odi[df_odi['Ground'] == 'Lord\\'s']\n",
    "\n",
    "df_lords['Winner'].value_counts()"
   ]
  },
  {
   "cell_type": "code",
   "execution_count": 26,
   "id": "8bbcfcd0",
   "metadata": {},
   "outputs": [
    {
     "name": "stdout",
     "output_type": "stream",
     "text": [
      "1\n",
      "3\n",
      "5\n",
      "7\n",
      "9\n"
     ]
    }
   ],
   "source": [
    "x = 1\n",
    "\n",
    "for i in range(1,10,2):\n",
    "\n",
    "    print(x*i)"
   ]
  },
  {
   "cell_type": "code",
   "execution_count": 28,
   "id": "d26161e0",
   "metadata": {},
   "outputs": [
    {
     "data": {
      "text/plain": [
       "'2'"
      ]
     },
     "execution_count": 28,
     "metadata": {},
     "output_type": "execute_result"
    }
   ],
   "source": [
    "a = np.array([['m', '2'],['n','3']])\n",
    "\n",
    "a[0,1]"
   ]
  },
  {
   "cell_type": "code",
   "execution_count": null,
   "id": "a15f1085",
   "metadata": {},
   "outputs": [],
   "source": []
  }
 ],
 "metadata": {
  "kernelspec": {
   "display_name": "Python 3",
   "language": "python",
   "name": "python3"
  },
  "language_info": {
   "codemirror_mode": {
    "name": "ipython",
    "version": 3
   },
   "file_extension": ".py",
   "mimetype": "text/x-python",
   "name": "python",
   "nbconvert_exporter": "python",
   "pygments_lexer": "ipython3",
   "version": "3.6.13"
  }
 },
 "nbformat": 4,
 "nbformat_minor": 5
}
