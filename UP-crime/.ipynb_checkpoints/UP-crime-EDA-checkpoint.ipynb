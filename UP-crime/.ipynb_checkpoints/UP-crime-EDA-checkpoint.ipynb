{
 "cells": [
  {
   "cell_type": "code",
   "execution_count": 1,
   "metadata": {
    "_cell_guid": "b1076dfc-b9ad-4769-8c92-a6c4dae69d19",
    "_uuid": "8f2839f25d086af736a60e9eeb907d3b93b6e0e5",
    "execution": {
     "iopub.execute_input": "2021-06-09T15:48:57.645429Z",
     "iopub.status.busy": "2021-06-09T15:48:57.644993Z",
     "iopub.status.idle": "2021-06-09T15:48:58.509978Z",
     "shell.execute_reply": "2021-06-09T15:48:58.508712Z",
     "shell.execute_reply.started": "2021-06-09T15:48:57.645360Z"
    }
   },
   "outputs": [],
   "source": [
    "# Import essential libraries\n",
    "\n",
    "import numpy as np # linear algebra\n",
    "import pandas as pd # data processing, CSV file I/O (e.g. pd.read_csv)\n",
    "import seaborn as sns\n",
    "import matplotlib.pyplot as plt\n",
    "%matplotlib inline\n",
    "\n",
    "import warnings\n",
    "warnings.filterwarnings('ignore')\n"
   ]
  },
  {
   "cell_type": "code",
   "execution_count": 2,
   "metadata": {
    "execution": {
     "iopub.execute_input": "2021-06-09T15:48:58.512004Z",
     "iopub.status.busy": "2021-06-09T15:48:58.511718Z",
     "iopub.status.idle": "2021-06-09T15:48:58.576130Z",
     "shell.execute_reply": "2021-06-09T15:48:58.575601Z",
     "shell.execute_reply.started": "2021-06-09T15:48:58.511976Z"
    }
   },
   "outputs": [],
   "source": [
    "# Load the data into a dataframe, and create a copy dataframe\n",
    "\n",
    "df_main = pd.read_csv('MR data - Compiled Data Set.csv')\n",
    "df_crime = df_main.copy()"
   ]
  },
  {
   "cell_type": "code",
   "execution_count": 3,
   "metadata": {
    "execution": {
     "iopub.execute_input": "2021-06-09T15:48:58.580378Z",
     "iopub.status.busy": "2021-06-09T15:48:58.579199Z",
     "iopub.status.idle": "2021-06-09T15:48:58.622188Z",
     "shell.execute_reply": "2021-06-09T15:48:58.620834Z",
     "shell.execute_reply.started": "2021-06-09T15:48:58.580353Z"
    }
   },
   "outputs": [
    {
     "data": {
      "text/html": [
       "<div>\n",
       "<style scoped>\n",
       "    .dataframe tbody tr th:only-of-type {\n",
       "        vertical-align: middle;\n",
       "    }\n",
       "\n",
       "    .dataframe tbody tr th {\n",
       "        vertical-align: top;\n",
       "    }\n",
       "\n",
       "    .dataframe thead th {\n",
       "        text-align: right;\n",
       "    }\n",
       "</style>\n",
       "<table border=\"1\" class=\"dataframe\">\n",
       "  <thead>\n",
       "    <tr style=\"text-align: right;\">\n",
       "      <th></th>\n",
       "      <th>City</th>\n",
       "      <th>Title</th>\n",
       "      <th>Text</th>\n",
       "      <th>Murder Happened with reason:\\n1:Property/Land Disputes,\\n2:Family Dispute\\n3:Petty Quarrels,\\n4:Money Disputes, \\n5:Personal Vendetta, \\n6:Love Affairs, \\n7:Casteism\\n8: Unknown/other</th>\n",
       "      <th>Number of child victims</th>\n",
       "      <th>Number of male victims(adult)</th>\n",
       "      <th>Number of female victims(adult)</th>\n",
       "      <th>Kidnnaping:\\nNumber of child victims</th>\n",
       "      <th>Number of male(adult)</th>\n",
       "      <th>Number of female(adult)</th>\n",
       "      <th>Crime Against Women ( Combined ):\\n1. Murder with Rape \\n2. Dowry Deaths(Sec. 3048)\\n3. Suicide(sec 305/306)\\n4. Kidnapping(All)\\n5. Acid Attack(Sec. 326A IPC)\\n6. Cruelty by Husband/in-laws((Sec.498 A IPC)\\n7. Rape only(Sec. 376 or 511 IPC)\\n8. Assault on Women with Intent to Outrage her Modesty (Sec. 354 IPC)\\n9. Cyber Crimes against Women\\n10. Protection of Children from Sexual Offences Act</th>\n",
       "      <th>Number of adult victims</th>\n",
       "      <th>Number of childs invoved</th>\n",
       "    </tr>\n",
       "  </thead>\n",
       "  <tbody>\n",
       "    <tr>\n",
       "      <th>463</th>\n",
       "      <td>Lucknow</td>\n",
       "      <td>Lucknow: Stalker thrashes dad, girl poisons he...</td>\n",
       "      <td>LUCKNOW: A 17-year-old girl consumed poison at...</td>\n",
       "      <td>NaN</td>\n",
       "      <td>NaN</td>\n",
       "      <td>NaN</td>\n",
       "      <td>NaN</td>\n",
       "      <td>NaN</td>\n",
       "      <td>NaN</td>\n",
       "      <td>NaN</td>\n",
       "      <td>3,8</td>\n",
       "      <td>NaN</td>\n",
       "      <td>1.0</td>\n",
       "    </tr>\n",
       "    <tr>\n",
       "      <th>464</th>\n",
       "      <td>Lucknow</td>\n",
       "      <td>Uttar Pradesh: Woman accuses boss of harassment</td>\n",
       "      <td>LUCKNOW: A 30-year-old employee of a real esta...</td>\n",
       "      <td>NaN</td>\n",
       "      <td>NaN</td>\n",
       "      <td>NaN</td>\n",
       "      <td>NaN</td>\n",
       "      <td>NaN</td>\n",
       "      <td>NaN</td>\n",
       "      <td>NaN</td>\n",
       "      <td>8</td>\n",
       "      <td>1.0</td>\n",
       "      <td>NaN</td>\n",
       "    </tr>\n",
       "    <tr>\n",
       "      <th>465</th>\n",
       "      <td>Lucknow</td>\n",
       "      <td>Buyer knifes fish vendor to death over Rs 10 i...</td>\n",
       "      <td>LUCKNOW: A customer knifed a fish vendor to de...</td>\n",
       "      <td>Petty Quarrels</td>\n",
       "      <td>NaN</td>\n",
       "      <td>1.0</td>\n",
       "      <td>NaN</td>\n",
       "      <td>NaN</td>\n",
       "      <td>NaN</td>\n",
       "      <td>NaN</td>\n",
       "      <td>NaN</td>\n",
       "      <td>NaN</td>\n",
       "      <td>NaN</td>\n",
       "    </tr>\n",
       "  </tbody>\n",
       "</table>\n",
       "</div>"
      ],
      "text/plain": [
       "       City                                               Title  \\\n",
       "463  Lucknow  Lucknow: Stalker thrashes dad, girl poisons he...   \n",
       "464  Lucknow    Uttar Pradesh: Woman accuses boss of harassment   \n",
       "465  Lucknow  Buyer knifes fish vendor to death over Rs 10 i...   \n",
       "\n",
       "                                                  Text  \\\n",
       "463  LUCKNOW: A 17-year-old girl consumed poison at...   \n",
       "464  LUCKNOW: A 30-year-old employee of a real esta...   \n",
       "465  LUCKNOW: A customer knifed a fish vendor to de...   \n",
       "\n",
       "    Murder Happened with reason:\\n1:Property/Land Disputes,\\n2:Family Dispute\\n3:Petty Quarrels,\\n4:Money Disputes, \\n5:Personal Vendetta, \\n6:Love Affairs, \\n7:Casteism\\n8: Unknown/other  \\\n",
       "463                                                NaN                                                                                                                                        \n",
       "464                                                NaN                                                                                                                                        \n",
       "465                                     Petty Quarrels                                                                                                                                        \n",
       "\n",
       "     Number of child victims  Number of male victims(adult)  \\\n",
       "463                      NaN                            NaN   \n",
       "464                      NaN                            NaN   \n",
       "465                      NaN                            1.0   \n",
       "\n",
       "     Number of female victims(adult)  Kidnnaping:\\nNumber of child victims  \\\n",
       "463                              NaN                                   NaN   \n",
       "464                              NaN                                   NaN   \n",
       "465                              NaN                                   NaN   \n",
       "\n",
       "     Number of male(adult)   Number of female(adult)  \\\n",
       "463                     NaN                      NaN   \n",
       "464                     NaN                      NaN   \n",
       "465                     NaN                      NaN   \n",
       "\n",
       "    Crime Against Women ( Combined ):\\n1. Murder with Rape \\n2. Dowry Deaths(Sec. 3048)\\n3. Suicide(sec 305/306)\\n4. Kidnapping(All)\\n5. Acid Attack(Sec. 326A IPC)\\n6. Cruelty by Husband/in-laws((Sec.498 A IPC)\\n7. Rape only(Sec. 376 or 511 IPC)\\n8. Assault on Women with Intent to Outrage her Modesty (Sec. 354 IPC)\\n9. Cyber Crimes against Women\\n10. Protection of Children from Sexual Offences Act  \\\n",
       "463                                                3,8                                                                                                                                                                                                                                                                                                                                                             \n",
       "464                                                  8                                                                                                                                                                                                                                                                                                                                                             \n",
       "465                                                NaN                                                                                                                                                                                                                                                                                                                                                             \n",
       "\n",
       "     Number of adult victims  Number of childs invoved  \n",
       "463                      NaN                       1.0  \n",
       "464                      1.0                       NaN  \n",
       "465                      NaN                       NaN  "
      ]
     },
     "execution_count": 3,
     "metadata": {},
     "output_type": "execute_result"
    }
   ],
   "source": [
    "df_crime.tail(3)"
   ]
  },
  {
   "cell_type": "code",
   "execution_count": 4,
   "metadata": {
    "execution": {
     "iopub.execute_input": "2021-06-09T15:48:58.624345Z",
     "iopub.status.busy": "2021-06-09T15:48:58.624052Z",
     "iopub.status.idle": "2021-06-09T15:48:58.632195Z",
     "shell.execute_reply": "2021-06-09T15:48:58.631375Z",
     "shell.execute_reply.started": "2021-06-09T15:48:58.624316Z"
    }
   },
   "outputs": [],
   "source": [
    "df_crime = df_crime.drop(labels=['Title', 'Text'], axis=1)\n",
    "\n"
   ]
  },
  {
   "cell_type": "code",
   "execution_count": 5,
   "metadata": {
    "execution": {
     "iopub.execute_input": "2021-06-09T15:48:58.633857Z",
     "iopub.status.busy": "2021-06-09T15:48:58.633223Z",
     "iopub.status.idle": "2021-06-09T15:48:58.648607Z",
     "shell.execute_reply": "2021-06-09T15:48:58.647767Z",
     "shell.execute_reply.started": "2021-06-09T15:48:58.633823Z"
    }
   },
   "outputs": [
    {
     "data": {
      "text/plain": [
       "Index(['City ',\n",
       "       'Murder Happened with reason:\\n1:Property/Land Disputes,\\n2:Family Dispute\\n3:Petty Quarrels,\\n4:Money Disputes, \\n5:Personal Vendetta, \\n6:Love Affairs, \\n7:Casteism\\n8: Unknown/other',\n",
       "       'Number of child victims', 'Number of male victims(adult)',\n",
       "       'Number of female victims(adult)',\n",
       "       'Kidnnaping:\\nNumber of child victims', 'Number of male(adult) ',\n",
       "       'Number of female(adult)',\n",
       "       'Crime Against Women ( Combined ):\\n1. Murder with Rape \\n2. Dowry Deaths(Sec. 3048)\\n3. Suicide(sec 305/306)\\n4. Kidnapping(All)\\n5. Acid Attack(Sec. 326A IPC)\\n6. Cruelty by Husband/in-laws((Sec.498 A IPC)\\n7. Rape only(Sec. 376 or 511 IPC)\\n8. Assault on Women with Intent to Outrage her Modesty (Sec. 354 IPC)\\n9. Cyber Crimes against Women\\n10. Protection of Children from Sexual Offences Act',\n",
       "       'Number of adult victims', 'Number of childs invoved'],\n",
       "      dtype='object')"
      ]
     },
     "execution_count": 5,
     "metadata": {},
     "output_type": "execute_result"
    }
   ],
   "source": [
    "df_crime.columns"
   ]
  },
  {
   "cell_type": "code",
   "execution_count": 6,
   "metadata": {
    "execution": {
     "iopub.execute_input": "2021-06-09T15:48:58.650145Z",
     "iopub.status.busy": "2021-06-09T15:48:58.649713Z",
     "iopub.status.idle": "2021-06-09T15:48:58.664975Z",
     "shell.execute_reply": "2021-06-09T15:48:58.663982Z",
     "shell.execute_reply.started": "2021-06-09T15:48:58.650101Z"
    }
   },
   "outputs": [],
   "source": [
    "df_crime.columns = ['City', 'Murder Reason', 'Child Victims', 'Adult Male Victims', 'Adult Female Victims', 'Kidnapped Child', 'Involved Adult Male', 'Involved Adult Female', 'Crime Against Women(Act)', 'Adult Victims', 'Children Involved']"
   ]
  },
  {
   "cell_type": "code",
   "execution_count": 7,
   "metadata": {
    "execution": {
     "iopub.execute_input": "2021-06-09T15:48:58.666652Z",
     "iopub.status.busy": "2021-06-09T15:48:58.666168Z",
     "iopub.status.idle": "2021-06-09T15:48:58.688768Z",
     "shell.execute_reply": "2021-06-09T15:48:58.687589Z",
     "shell.execute_reply.started": "2021-06-09T15:48:58.666617Z"
    }
   },
   "outputs": [
    {
     "data": {
      "text/plain": [
       "City                          0\n",
       "Murder Reason               319\n",
       "Child Victims               453\n",
       "Adult Male Victims          371\n",
       "Adult Female Victims        419\n",
       "Kidnapped Child             455\n",
       "Involved Adult Male         458\n",
       "Involved Adult Female       463\n",
       "Crime Against Women(Act)    266\n",
       "Adult Victims               350\n",
       "Children Involved           381\n",
       "dtype: int64"
      ]
     },
     "execution_count": 7,
     "metadata": {},
     "output_type": "execute_result"
    }
   ],
   "source": [
    "df_crime.isnull().sum()"
   ]
  },
  {
   "cell_type": "code",
   "execution_count": 8,
   "metadata": {
    "execution": {
     "iopub.execute_input": "2021-06-09T15:48:58.690577Z",
     "iopub.status.busy": "2021-06-09T15:48:58.690161Z",
     "iopub.status.idle": "2021-06-09T15:48:58.706404Z",
     "shell.execute_reply": "2021-06-09T15:48:58.704922Z",
     "shell.execute_reply.started": "2021-06-09T15:48:58.690545Z"
    }
   },
   "outputs": [],
   "source": [
    "df_crime = df_crime.fillna(0)"
   ]
  },
  {
   "cell_type": "code",
   "execution_count": 9,
   "metadata": {
    "execution": {
     "iopub.execute_input": "2021-06-09T15:48:58.708832Z",
     "iopub.status.busy": "2021-06-09T15:48:58.708556Z",
     "iopub.status.idle": "2021-06-09T15:48:58.739100Z",
     "shell.execute_reply": "2021-06-09T15:48:58.738337Z",
     "shell.execute_reply.started": "2021-06-09T15:48:58.708804Z"
    }
   },
   "outputs": [
    {
     "data": {
      "text/html": [
       "<div>\n",
       "<style scoped>\n",
       "    .dataframe tbody tr th:only-of-type {\n",
       "        vertical-align: middle;\n",
       "    }\n",
       "\n",
       "    .dataframe tbody tr th {\n",
       "        vertical-align: top;\n",
       "    }\n",
       "\n",
       "    .dataframe thead th {\n",
       "        text-align: right;\n",
       "    }\n",
       "</style>\n",
       "<table border=\"1\" class=\"dataframe\">\n",
       "  <thead>\n",
       "    <tr style=\"text-align: right;\">\n",
       "      <th></th>\n",
       "      <th>City</th>\n",
       "      <th>Murder Reason</th>\n",
       "      <th>Child Victims</th>\n",
       "      <th>Adult Male Victims</th>\n",
       "      <th>Adult Female Victims</th>\n",
       "      <th>Kidnapped Child</th>\n",
       "      <th>Involved Adult Male</th>\n",
       "      <th>Involved Adult Female</th>\n",
       "      <th>Crime Against Women(Act)</th>\n",
       "      <th>Adult Victims</th>\n",
       "      <th>Children Involved</th>\n",
       "    </tr>\n",
       "  </thead>\n",
       "  <tbody>\n",
       "    <tr>\n",
       "      <th>0</th>\n",
       "      <td>Ghaziabad</td>\n",
       "      <td>0</td>\n",
       "      <td>0.0</td>\n",
       "      <td>0.0</td>\n",
       "      <td>0.0</td>\n",
       "      <td>0.0</td>\n",
       "      <td>0.0</td>\n",
       "      <td>0.0</td>\n",
       "      <td>8,10</td>\n",
       "      <td>0.0</td>\n",
       "      <td>3.0</td>\n",
       "    </tr>\n",
       "    <tr>\n",
       "      <th>1</th>\n",
       "      <td>Ghaziabad</td>\n",
       "      <td>0</td>\n",
       "      <td>0.0</td>\n",
       "      <td>0.0</td>\n",
       "      <td>0.0</td>\n",
       "      <td>0.0</td>\n",
       "      <td>0.0</td>\n",
       "      <td>0.0</td>\n",
       "      <td>0</td>\n",
       "      <td>0.0</td>\n",
       "      <td>0.0</td>\n",
       "    </tr>\n",
       "    <tr>\n",
       "      <th>2</th>\n",
       "      <td>Ghaziabad</td>\n",
       "      <td>0</td>\n",
       "      <td>0.0</td>\n",
       "      <td>0.0</td>\n",
       "      <td>0.0</td>\n",
       "      <td>0.0</td>\n",
       "      <td>0.0</td>\n",
       "      <td>0.0</td>\n",
       "      <td>0</td>\n",
       "      <td>0.0</td>\n",
       "      <td>0.0</td>\n",
       "    </tr>\n",
       "    <tr>\n",
       "      <th>3</th>\n",
       "      <td>Ghaziabad</td>\n",
       "      <td>0</td>\n",
       "      <td>0.0</td>\n",
       "      <td>0.0</td>\n",
       "      <td>0.0</td>\n",
       "      <td>0.0</td>\n",
       "      <td>0.0</td>\n",
       "      <td>0.0</td>\n",
       "      <td>0</td>\n",
       "      <td>0.0</td>\n",
       "      <td>0.0</td>\n",
       "    </tr>\n",
       "    <tr>\n",
       "      <th>4</th>\n",
       "      <td>Ghaziabad</td>\n",
       "      <td>0</td>\n",
       "      <td>0.0</td>\n",
       "      <td>0.0</td>\n",
       "      <td>0.0</td>\n",
       "      <td>0.0</td>\n",
       "      <td>0.0</td>\n",
       "      <td>0.0</td>\n",
       "      <td>0</td>\n",
       "      <td>0.0</td>\n",
       "      <td>0.0</td>\n",
       "    </tr>\n",
       "  </tbody>\n",
       "</table>\n",
       "</div>"
      ],
      "text/plain": [
       "        City Murder Reason  Child Victims  Adult Male Victims  \\\n",
       "0  Ghaziabad             0            0.0                 0.0   \n",
       "1  Ghaziabad             0            0.0                 0.0   \n",
       "2  Ghaziabad             0            0.0                 0.0   \n",
       "3  Ghaziabad             0            0.0                 0.0   \n",
       "4  Ghaziabad             0            0.0                 0.0   \n",
       "\n",
       "   Adult Female Victims  Kidnapped Child  Involved Adult Male  \\\n",
       "0                   0.0              0.0                  0.0   \n",
       "1                   0.0              0.0                  0.0   \n",
       "2                   0.0              0.0                  0.0   \n",
       "3                   0.0              0.0                  0.0   \n",
       "4                   0.0              0.0                  0.0   \n",
       "\n",
       "   Involved Adult Female Crime Against Women(Act)  Adult Victims  \\\n",
       "0                    0.0                     8,10            0.0   \n",
       "1                    0.0                        0            0.0   \n",
       "2                    0.0                        0            0.0   \n",
       "3                    0.0                        0            0.0   \n",
       "4                    0.0                        0            0.0   \n",
       "\n",
       "   Children Involved  \n",
       "0                3.0  \n",
       "1                0.0  \n",
       "2                0.0  \n",
       "3                0.0  \n",
       "4                0.0  "
      ]
     },
     "execution_count": 9,
     "metadata": {},
     "output_type": "execute_result"
    }
   ],
   "source": [
    "df_crime.head(5)"
   ]
  },
  {
   "cell_type": "code",
   "execution_count": 10,
   "metadata": {
    "execution": {
     "iopub.execute_input": "2021-06-09T15:48:58.740727Z",
     "iopub.status.busy": "2021-06-09T15:48:58.740375Z",
     "iopub.status.idle": "2021-06-09T15:48:58.880233Z",
     "shell.execute_reply": "2021-06-09T15:48:58.878954Z",
     "shell.execute_reply.started": "2021-06-09T15:48:58.740701Z"
    }
   },
   "outputs": [
    {
     "data": {
      "image/png": "[encoded data removed]",
      "text/plain": [
       "<Figure size 432x288 with 1 Axes>"
      ]
     },
     "metadata": {
      "needs_background": "light"
     },
     "output_type": "display_data"
    }
   ],
   "source": [
    "sns.countplot(data=df_crime, x='City', order=df_crime['City'].value_counts().index);"
   ]
  },
  {
   "cell_type": "code",
   "execution_count": 11,
   "metadata": {
    "execution": {
     "iopub.execute_input": "2021-06-09T15:48:58.881531Z",
     "iopub.status.busy": "2021-06-09T15:48:58.881292Z",
     "iopub.status.idle": "2021-06-09T15:48:59.076646Z",
     "shell.execute_reply": "2021-06-09T15:48:59.075420Z",
     "shell.execute_reply.started": "2021-06-09T15:48:58.881480Z"
    }
   },
   "outputs": [
    {
     "data": {
      "image/png": "[encoded data removed]",
      "text/plain": [
       "<Figure size 1440x720 with 1 Axes>"
      ]
     },
     "metadata": {
      "needs_background": "light"
     },
     "output_type": "display_data"
    }
   ],
   "source": [
    "df_murder_reasons = df_crime[df_crime['Murder Reason'].isin([0, 'Unknown reasons']) == False]\n",
    "\n",
    "plt.figure(figsize=(20,10))\n",
    "sns.countplot(data=df_murder_reasons, x='Murder Reason', order=df_murder_reasons['Murder Reason'].value_counts().index);"
   ]
  },
  {
   "cell_type": "code",
   "execution_count": 12,
   "metadata": {
    "execution": {
     "iopub.execute_input": "2021-06-09T16:02:56.206615Z",
     "iopub.status.busy": "2021-06-09T16:02:56.206204Z",
     "iopub.status.idle": "2021-06-09T16:02:56.642964Z",
     "shell.execute_reply": "2021-06-09T16:02:56.641362Z",
     "shell.execute_reply.started": "2021-06-09T16:02:56.206590Z"
    }
   },
   "outputs": [
    {
     "data": {
      "image/png": "[encoded data removed]",
      "text/plain": [
       "<Figure size 1440x1440 with 3 Axes>"
      ]
     },
     "metadata": {
      "needs_background": "light"
     },
     "output_type": "display_data"
    }
   ],
   "source": [
    "fig, axes = plt.subplots( len(df_murder_reasons['City'].unique()), 1, figsize=(20,20))\n",
    "i = 0\n",
    "for ct in df_murder_reasons['City'].unique():\n",
    "    sns.countplot(data=df_murder_reasons[df_murder_reasons['City'] == ct], x='Murder Reason', order=df_murder_reasons[df_murder_reasons['City'] == ct]['Murder Reason'].value_counts().index, ax = axes[i]).set(title=ct);\n",
    "    i+=1"
   ]
  },
  {
   "cell_type": "code",
   "execution_count": 13,
   "metadata": {},
   "outputs": [],
   "source": [
    "idx = 0\n",
    "for idx in range(0,11):\n",
    "    df_crime.insert(8 + idx, column = 'Act' + str(idx + 1), value = 0)\n",
    "    idx +=1\n",
    "    "
   ]
  },
  {
   "cell_type": "code",
   "execution_count": 14,
   "metadata": {},
   "outputs": [],
   "source": [
    "for i in range(len(df_crime['Crime Against Women(Act)'])):\n",
    "    splitted = str(df_crime['Crime Against Women(Act)'][i]).split(',')\n",
    "    for x in splitted:\n",
    "        if x=='0':\n",
    "            continue\n",
    "        df_crime.loc[int(i),'Act{}'.format(x.strip())]=1"
   ]
  },
  {
   "cell_type": "code",
   "execution_count": 22,
   "metadata": {},
   "outputs": [
    {
     "data": {
      "text/html": [
       "<div>\n",
       "<style scoped>\n",
       "    .dataframe tbody tr th:only-of-type {\n",
       "        vertical-align: middle;\n",
       "    }\n",
       "\n",
       "    .dataframe tbody tr th {\n",
       "        vertical-align: top;\n",
       "    }\n",
       "\n",
       "    .dataframe thead th {\n",
       "        text-align: right;\n",
       "    }\n",
       "</style>\n",
       "<table border=\"1\" class=\"dataframe\">\n",
       "  <thead>\n",
       "    <tr style=\"text-align: right;\">\n",
       "      <th></th>\n",
       "      <th>City</th>\n",
       "      <th>Murder Reason</th>\n",
       "      <th>Child Victims</th>\n",
       "      <th>Adult Male Victims</th>\n",
       "      <th>Adult Female Victims</th>\n",
       "      <th>Kidnapped Child</th>\n",
       "      <th>Involved Adult Male</th>\n",
       "      <th>Involved Adult Female</th>\n",
       "      <th>Act1</th>\n",
       "      <th>Act2</th>\n",
       "      <th>...</th>\n",
       "      <th>Act5</th>\n",
       "      <th>Act6</th>\n",
       "      <th>Act7</th>\n",
       "      <th>Act8</th>\n",
       "      <th>Act9</th>\n",
       "      <th>Act10</th>\n",
       "      <th>Act11</th>\n",
       "      <th>Crime Against Women(Act)</th>\n",
       "      <th>Adult Victims</th>\n",
       "      <th>Children Involved</th>\n",
       "    </tr>\n",
       "  </thead>\n",
       "  <tbody>\n",
       "    <tr>\n",
       "      <th>10</th>\n",
       "      <td>Ghaziabad</td>\n",
       "      <td>Money Disputes</td>\n",
       "      <td>1.0</td>\n",
       "      <td>0.0</td>\n",
       "      <td>0.0</td>\n",
       "      <td>0.0</td>\n",
       "      <td>0.0</td>\n",
       "      <td>0.0</td>\n",
       "      <td>0</td>\n",
       "      <td>0</td>\n",
       "      <td>...</td>\n",
       "      <td>0</td>\n",
       "      <td>0</td>\n",
       "      <td>0</td>\n",
       "      <td>0</td>\n",
       "      <td>0</td>\n",
       "      <td>0</td>\n",
       "      <td>0</td>\n",
       "      <td>0</td>\n",
       "      <td>0.0</td>\n",
       "      <td>0.0</td>\n",
       "    </tr>\n",
       "    <tr>\n",
       "      <th>11</th>\n",
       "      <td>Ghaziabad</td>\n",
       "      <td>Love Affairs</td>\n",
       "      <td>0.0</td>\n",
       "      <td>0.0</td>\n",
       "      <td>1.0</td>\n",
       "      <td>0.0</td>\n",
       "      <td>0.0</td>\n",
       "      <td>0.0</td>\n",
       "      <td>0</td>\n",
       "      <td>0</td>\n",
       "      <td>...</td>\n",
       "      <td>0</td>\n",
       "      <td>0</td>\n",
       "      <td>0</td>\n",
       "      <td>0</td>\n",
       "      <td>0</td>\n",
       "      <td>0</td>\n",
       "      <td>0</td>\n",
       "      <td>0</td>\n",
       "      <td>0.0</td>\n",
       "      <td>0.0</td>\n",
       "    </tr>\n",
       "    <tr>\n",
       "      <th>20</th>\n",
       "      <td>Ghaziabad</td>\n",
       "      <td>Unknown reasons</td>\n",
       "      <td>0.0</td>\n",
       "      <td>1.0</td>\n",
       "      <td>0.0</td>\n",
       "      <td>0.0</td>\n",
       "      <td>0.0</td>\n",
       "      <td>0.0</td>\n",
       "      <td>0</td>\n",
       "      <td>0</td>\n",
       "      <td>...</td>\n",
       "      <td>0</td>\n",
       "      <td>0</td>\n",
       "      <td>0</td>\n",
       "      <td>0</td>\n",
       "      <td>0</td>\n",
       "      <td>0</td>\n",
       "      <td>0</td>\n",
       "      <td>0</td>\n",
       "      <td>0.0</td>\n",
       "      <td>0.0</td>\n",
       "    </tr>\n",
       "    <tr>\n",
       "      <th>34</th>\n",
       "      <td>Ghaziabad</td>\n",
       "      <td>Unknown reasons</td>\n",
       "      <td>0.0</td>\n",
       "      <td>1.0</td>\n",
       "      <td>0.0</td>\n",
       "      <td>0.0</td>\n",
       "      <td>0.0</td>\n",
       "      <td>0.0</td>\n",
       "      <td>0</td>\n",
       "      <td>0</td>\n",
       "      <td>...</td>\n",
       "      <td>0</td>\n",
       "      <td>0</td>\n",
       "      <td>0</td>\n",
       "      <td>0</td>\n",
       "      <td>0</td>\n",
       "      <td>0</td>\n",
       "      <td>0</td>\n",
       "      <td>0</td>\n",
       "      <td>0.0</td>\n",
       "      <td>0.0</td>\n",
       "    </tr>\n",
       "    <tr>\n",
       "      <th>42</th>\n",
       "      <td>Ghaziabad</td>\n",
       "      <td>Love Affairs</td>\n",
       "      <td>0.0</td>\n",
       "      <td>1.0</td>\n",
       "      <td>0.0</td>\n",
       "      <td>0.0</td>\n",
       "      <td>0.0</td>\n",
       "      <td>0.0</td>\n",
       "      <td>0</td>\n",
       "      <td>0</td>\n",
       "      <td>...</td>\n",
       "      <td>0</td>\n",
       "      <td>0</td>\n",
       "      <td>0</td>\n",
       "      <td>0</td>\n",
       "      <td>0</td>\n",
       "      <td>0</td>\n",
       "      <td>0</td>\n",
       "      <td>0</td>\n",
       "      <td>0.0</td>\n",
       "      <td>0.0</td>\n",
       "    </tr>\n",
       "  </tbody>\n",
       "</table>\n",
       "<p>5 rows × 22 columns</p>\n",
       "</div>"
      ],
      "text/plain": [
       "         City    Murder Reason  Child Victims  Adult Male Victims  \\\n",
       "10  Ghaziabad   Money Disputes            1.0                 0.0   \n",
       "11  Ghaziabad     Love Affairs            0.0                 0.0   \n",
       "20  Ghaziabad  Unknown reasons            0.0                 1.0   \n",
       "34  Ghaziabad  Unknown reasons            0.0                 1.0   \n",
       "42  Ghaziabad     Love Affairs            0.0                 1.0   \n",
       "\n",
       "    Adult Female Victims  Kidnapped Child  Involved Adult Male  \\\n",
       "10                   0.0              0.0                  0.0   \n",
       "11                   1.0              0.0                  0.0   \n",
       "20                   0.0              0.0                  0.0   \n",
       "34                   0.0              0.0                  0.0   \n",
       "42                   0.0              0.0                  0.0   \n",
       "\n",
       "    Involved Adult Female  Act1  Act2  ...  Act5  Act6  Act7  Act8  Act9  \\\n",
       "10                    0.0     0     0  ...     0     0     0     0     0   \n",
       "11                    0.0     0     0  ...     0     0     0     0     0   \n",
       "20                    0.0     0     0  ...     0     0     0     0     0   \n",
       "34                    0.0     0     0  ...     0     0     0     0     0   \n",
       "42                    0.0     0     0  ...     0     0     0     0     0   \n",
       "\n",
       "    Act10  Act11  Crime Against Women(Act)  Adult Victims Children Involved  \n",
       "10      0      0                         0            0.0               0.0  \n",
       "11      0      0                         0            0.0               0.0  \n",
       "20      0      0                         0            0.0               0.0  \n",
       "34      0      0                         0            0.0               0.0  \n",
       "42      0      0                         0            0.0               0.0  \n",
       "\n",
       "[5 rows x 22 columns]"
      ]
     },
     "execution_count": 22,
     "metadata": {},
     "output_type": "execute_result"
    }
   ],
   "source": [
    "df_crime[df_crime['Murder Reason'] != 0].head(5)"
   ]
  },
  {
   "cell_type": "code",
   "execution_count": 16,
   "metadata": {},
   "outputs": [],
   "source": [
    "df_crime_norm = df_crime.drop('Crime Against Women(Act)', axis = 1)"
   ]
  },
  {
   "cell_type": "code",
   "execution_count": 17,
   "metadata": {},
   "outputs": [
    {
     "data": {
      "text/html": [
       "<div>\n",
       "<style scoped>\n",
       "    .dataframe tbody tr th:only-of-type {\n",
       "        vertical-align: middle;\n",
       "    }\n",
       "\n",
       "    .dataframe tbody tr th {\n",
       "        vertical-align: top;\n",
       "    }\n",
       "\n",
       "    .dataframe thead th {\n",
       "        text-align: right;\n",
       "    }\n",
       "</style>\n",
       "<table border=\"1\" class=\"dataframe\">\n",
       "  <thead>\n",
       "    <tr style=\"text-align: right;\">\n",
       "      <th></th>\n",
       "      <th>Child Victims</th>\n",
       "      <th>Adult Male Victims</th>\n",
       "      <th>Adult Female Victims</th>\n",
       "      <th>Kidnapped Child</th>\n",
       "      <th>Adult Victims</th>\n",
       "      <th>Children Involved</th>\n",
       "    </tr>\n",
       "    <tr>\n",
       "      <th>City</th>\n",
       "      <th></th>\n",
       "      <th></th>\n",
       "      <th></th>\n",
       "      <th></th>\n",
       "      <th></th>\n",
       "      <th></th>\n",
       "    </tr>\n",
       "  </thead>\n",
       "  <tbody>\n",
       "    <tr>\n",
       "      <th>Ghaziabad</th>\n",
       "      <td>8.0</td>\n",
       "      <td>31.0</td>\n",
       "      <td>13.0</td>\n",
       "      <td>8.0</td>\n",
       "      <td>44.0</td>\n",
       "      <td>32.0</td>\n",
       "    </tr>\n",
       "    <tr>\n",
       "      <th>Kanpur</th>\n",
       "      <td>8.0</td>\n",
       "      <td>24.0</td>\n",
       "      <td>15.0</td>\n",
       "      <td>0.0</td>\n",
       "      <td>23.0</td>\n",
       "      <td>30.0</td>\n",
       "    </tr>\n",
       "    <tr>\n",
       "      <th>Lucknow</th>\n",
       "      <td>3.0</td>\n",
       "      <td>48.0</td>\n",
       "      <td>24.0</td>\n",
       "      <td>5.0</td>\n",
       "      <td>56.0</td>\n",
       "      <td>32.0</td>\n",
       "    </tr>\n",
       "  </tbody>\n",
       "</table>\n",
       "</div>"
      ],
      "text/plain": [
       "           Child Victims  Adult Male Victims  Adult Female Victims  \\\n",
       "City                                                                 \n",
       "Ghaziabad            8.0                31.0                  13.0   \n",
       "Kanpur               8.0                24.0                  15.0   \n",
       "Lucknow              3.0                48.0                  24.0   \n",
       "\n",
       "           Kidnapped Child  Adult Victims  Children Involved  \n",
       "City                                                          \n",
       "Ghaziabad              8.0           44.0               32.0  \n",
       "Kanpur                 0.0           23.0               30.0  \n",
       "Lucknow                5.0           56.0               32.0  "
      ]
     },
     "execution_count": 17,
     "metadata": {},
     "output_type": "execute_result"
    }
   ],
   "source": [
    "df_crime_norm.groupby(by='City')\\\n",
    ".agg({'Child Victims':'sum', 'Adult Male Victims':'sum', 'Adult Female Victims':'sum', 'Kidnapped Child':'sum'\\\n",
    "     , 'Adult Victims':'sum', 'Children Involved':'sum'})"
   ]
  },
  {
   "cell_type": "code",
   "execution_count": 18,
   "metadata": {},
   "outputs": [],
   "source": [
    "df_violence_against_women = df_crime_norm.iloc[:,8:19].sum().sort_values(ascending = False)"
   ]
  },
  {
   "cell_type": "code",
   "execution_count": 19,
   "metadata": {},
   "outputs": [],
   "source": [
    "df_violence_against_women.index = ['Murder with Rape', 'Dowry Deaths(Sec. 3048)', 'Suicide(sec 305/306)', 'Kidnapping(All)', 'Acid Attack(Sec. 326A IPC)', 'Cruelty by Husband/in-laws((Sec.498 A IPC)', 'Rape only(Sec. 376 or 511 IPC)', 'Assault on Women with Intent to Outrage her Modesty (Sec. 354 IPC)', 'Cyber Crimes against Women', 'Protection of Children from Sexual Offences Act', 'Unknown']"
   ]
  },
  {
   "cell_type": "code",
   "execution_count": 20,
   "metadata": {},
   "outputs": [
    {
     "data": {
      "image/png": "[encoded data removed]",
      "text/plain": [
       "<Figure size 1080x504 with 1 Axes>"
      ]
     },
     "metadata": {
      "needs_background": "light"
     },
     "output_type": "display_data"
    }
   ],
   "source": [
    "plt.figure(figsize = (15,7))\n",
    "plt.bar(df_violence_against_women.index, df_violence_against_women.values)\n",
    "plt.xticks(rotation = -90);"
   ]
  },
  {
   "cell_type": "code",
   "execution_count": 44,
   "metadata": {
    "scrolled": false
   },
   "outputs": [
    {
     "data": {
      "text/plain": [
       "<Figure size 1080x720 with 0 Axes>"
      ]
     },
     "metadata": {},
     "output_type": "display_data"
    },
    {
     "data": {
      "image/png": "[encoded data removed]",
      "text/plain": [
       "<Figure size 1080x360 with 3 Axes>"
      ]
     },
     "metadata": {
      "needs_background": "light"
     },
     "output_type": "display_data"
    }
   ],
   "source": [
    "plt.figure(figsize = (15, 10))\n",
    "df_crime_child_reason = df_crime_norm.groupby(['Murder Reason', 'City']).agg({'Child Victims':'sum'}).reset_index()\n",
    "sns.catplot(data = df_crime_child_reason, y='Murder Reason', x='Child Victims', col = 'City', kind='bar', orient='h');\n"
   ]
  },
  {
   "cell_type": "code",
   "execution_count": 46,
   "metadata": {},
   "outputs": [
    {
     "data": {
      "text/plain": [
       "<Figure size 1080x720 with 0 Axes>"
      ]
     },
     "metadata": {},
     "output_type": "display_data"
    },
    {
     "data": {
      "image/png": "[encoded data removed]",
      "text/plain": [
       "<Figure size 1080x360 with 3 Axes>"
      ]
     },
     "metadata": {
      "needs_background": "light"
     },
     "output_type": "display_data"
    }
   ],
   "source": [
    "plt.figure(figsize = (15, 10))\n",
    "df_crime_male_reason = df_crime_norm.groupby(['Murder Reason', 'City']).agg({'Adult Male Victims':'sum'}).reset_index()\n",
    "sns.catplot(data = df_crime_male_reason, y='Murder Reason', x='Adult Male Victims', col = 'City', kind='bar', orient='h');\n"
   ]
  },
  {
   "cell_type": "code",
   "execution_count": 62,
   "metadata": {},
   "outputs": [
    {
     "data": {
      "text/plain": [
       "<Figure size 1080x720 with 0 Axes>"
      ]
     },
     "metadata": {},
     "output_type": "display_data"
    },
    {
     "data": {
      "image/png": "[encoded data removed]",
      "text/plain": [
       "<Figure size 1080x360 with 3 Axes>"
      ]
     },
     "metadata": {
      "needs_background": "light"
     },
     "output_type": "display_data"
    }
   ],
   "source": [
    "plt.figure(figsize = (15, 10))\n",
    "df_crime_female_reason = df_crime_norm.groupby(['Murder Reason', 'City']).agg({'Adult Female Victims':'sum'}).reset_index()\n",
    "\n",
    "sns.catplot(data = df_crime_female_reason, y='Murder Reason', x='Adult Female Victims', col = 'City', kind='bar', orient='h');\n"
   ]
  },
  {
   "cell_type": "code",
   "execution_count": null,
   "metadata": {},
   "outputs": [],
   "source": []
  }
 ],
 "metadata": {
  "kernelspec": {
   "display_name": "Python 3",
   "language": "python",
   "name": "python3"
  },
  "language_info": {
   "codemirror_mode": {
    "name": "ipython",
    "version": 3
   },
   "file_extension": ".py",
   "mimetype": "text/x-python",
   "name": "python",
   "nbconvert_exporter": "python",
   "pygments_lexer": "ipython3",
   "version": "3.6.13"
  }
 },
 "nbformat": 4,
 "nbformat_minor": 4
}
