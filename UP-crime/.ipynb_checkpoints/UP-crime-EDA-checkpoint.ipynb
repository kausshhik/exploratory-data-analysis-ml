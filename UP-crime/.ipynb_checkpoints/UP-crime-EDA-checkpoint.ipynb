{
 "cells": [
  {
   "cell_type": "code",
   "execution_count": 1,
   "metadata": {
    "_cell_guid": "b1076dfc-b9ad-4769-8c92-a6c4dae69d19",
    "_uuid": "8f2839f25d086af736a60e9eeb907d3b93b6e0e5",
    "execution": {
     "iopub.execute_input": "2021-06-09T15:48:57.645429Z",
     "iopub.status.busy": "2021-06-09T15:48:57.644993Z",
     "iopub.status.idle": "2021-06-09T15:48:58.509978Z",
     "shell.execute_reply": "2021-06-09T15:48:58.508712Z",
     "shell.execute_reply.started": "2021-06-09T15:48:57.645360Z"
    }
   },
   "outputs": [],
   "source": [
    "# Import essential libraries\n",
    "\n",
    "import numpy as np # linear algebra\n",
    "import pandas as pd # data processing, CSV file I/O (e.g. pd.read_csv)\n",
    "import seaborn as sns\n",
    "import matplotlib.pyplot as plt\n",
    "%matplotlib inline\n",
    "\n",
    "import warnings\n",
    "warnings.filterwarnings('ignore')\n"
   ]
  },
  {
   "cell_type": "code",
   "execution_count": 2,
   "metadata": {
    "execution": {
     "iopub.execute_input": "2021-06-09T15:48:58.512004Z",
     "iopub.status.busy": "2021-06-09T15:48:58.511718Z",
     "iopub.status.idle": "2021-06-09T15:48:58.576130Z",
     "shell.execute_reply": "2021-06-09T15:48:58.575601Z",
     "shell.execute_reply.started": "2021-06-09T15:48:58.511976Z"
    }
   },
   "outputs": [],
   "source": [
    "# Load the data into a dataframe, and create a copy dataframe\n",
    "\n",
    "df_main = pd.read_csv('MR data - Compiled Data Set.csv')\n",
    "df_crime = df_main.copy()"
   ]
  },
  {
   "cell_type": "code",
   "execution_count": 3,
   "metadata": {
    "execution": {
     "iopub.execute_input": "2021-06-09T15:48:58.580378Z",
     "iopub.status.busy": "2021-06-09T15:48:58.579199Z",
     "iopub.status.idle": "2021-06-09T15:48:58.622188Z",
     "shell.execute_reply": "2021-06-09T15:48:58.620834Z",
     "shell.execute_reply.started": "2021-06-09T15:48:58.580353Z"
    }
   },
   "outputs": [
    {
     "data": {
      "text/html": [
       "<div>\n",
       "<style scoped>\n",
       "    .dataframe tbody tr th:only-of-type {\n",
       "        vertical-align: middle;\n",
       "    }\n",
       "\n",
       "    .dataframe tbody tr th {\n",
       "        vertical-align: top;\n",
       "    }\n",
       "\n",
       "    .dataframe thead th {\n",
       "        text-align: right;\n",
       "    }\n",
       "</style>\n",
       "<table border=\"1\" class=\"dataframe\">\n",
       "  <thead>\n",
       "    <tr style=\"text-align: right;\">\n",
       "      <th></th>\n",
       "      <th>City</th>\n",
       "      <th>Title</th>\n",
       "      <th>Text</th>\n",
       "      <th>Murder Happened with reason:\\n1:Property/Land Disputes,\\n2:Family Dispute\\n3:Petty Quarrels,\\n4:Money Disputes, \\n5:Personal Vendetta, \\n6:Love Affairs, \\n7:Casteism\\n8: Unknown/other</th>\n",
       "      <th>Number of child victims</th>\n",
       "      <th>Number of male victims(adult)</th>\n",
       "      <th>Number of female victims(adult)</th>\n",
       "      <th>Kidnnaping:\\nNumber of child victims</th>\n",
       "      <th>Number of male(adult)</th>\n",
       "      <th>Number of female(adult)</th>\n",
       "      <th>Crime Against Women ( Combined ):\\n1. Murder with Rape \\n2. Dowry Deaths(Sec. 3048)\\n3. Suicide(sec 305/306)\\n4. Kidnapping(All)\\n5. Acid Attack(Sec. 326A IPC)\\n6. Cruelty by Husband/in-laws((Sec.498 A IPC)\\n7. Rape only(Sec. 376 or 511 IPC)\\n8. Assault on Women with Intent to Outrage her Modesty (Sec. 354 IPC)\\n9. Cyber Crimes against Women\\n10. Protection of Children from Sexual Offences Act</th>\n",
       "      <th>Number of adult victims</th>\n",
       "      <th>Number of childs invoved</th>\n",
       "    </tr>\n",
       "  </thead>\n",
       "  <tbody>\n",
       "    <tr>\n",
       "      <th>456</th>\n",
       "      <td>Lucknow</td>\n",
       "      <td>Uttar Pradesh: Obscene posters put up in Babas...</td>\n",
       "      <td>LUCKNOW: Cocking a snook at security arrangeme...</td>\n",
       "      <td>NaN</td>\n",
       "      <td>NaN</td>\n",
       "      <td>NaN</td>\n",
       "      <td>NaN</td>\n",
       "      <td>NaN</td>\n",
       "      <td>NaN</td>\n",
       "      <td>NaN</td>\n",
       "      <td>8</td>\n",
       "      <td>NaN</td>\n",
       "      <td>NaN</td>\n",
       "    </tr>\n",
       "    <tr>\n",
       "      <th>457</th>\n",
       "      <td>Lucknow</td>\n",
       "      <td>Lucknow: Woman kills husband over his illicit ...</td>\n",
       "      <td>LUCKNOW: A woman allegedly killed her husband ...</td>\n",
       "      <td>Love Affairs</td>\n",
       "      <td>NaN</td>\n",
       "      <td>1.0</td>\n",
       "      <td>NaN</td>\n",
       "      <td>NaN</td>\n",
       "      <td>NaN</td>\n",
       "      <td>NaN</td>\n",
       "      <td>NaN</td>\n",
       "      <td>NaN</td>\n",
       "      <td>NaN</td>\n",
       "    </tr>\n",
       "    <tr>\n",
       "      <th>458</th>\n",
       "      <td>Lucknow</td>\n",
       "      <td>KGMU intern booked again for harassment</td>\n",
       "      <td>LUCKNOW: A 2012-batch MBBS intern at KGMU, ear...</td>\n",
       "      <td>NaN</td>\n",
       "      <td>NaN</td>\n",
       "      <td>NaN</td>\n",
       "      <td>NaN</td>\n",
       "      <td>NaN</td>\n",
       "      <td>NaN</td>\n",
       "      <td>NaN</td>\n",
       "      <td>7</td>\n",
       "      <td>NaN</td>\n",
       "      <td>1.0</td>\n",
       "    </tr>\n",
       "    <tr>\n",
       "      <th>459</th>\n",
       "      <td>Lucknow</td>\n",
       "      <td>'Sex maniac' held in Azamgarh for rape, triple...</td>\n",
       "      <td>VARANASI/LUCKNOW: A week after a couple and th...</td>\n",
       "      <td>Unknown reasons</td>\n",
       "      <td>1.0</td>\n",
       "      <td>1.0</td>\n",
       "      <td>1.0</td>\n",
       "      <td>NaN</td>\n",
       "      <td>NaN</td>\n",
       "      <td>NaN</td>\n",
       "      <td>1</td>\n",
       "      <td>1.0</td>\n",
       "      <td>1.0</td>\n",
       "    </tr>\n",
       "    <tr>\n",
       "      <th>460</th>\n",
       "      <td>Lucknow</td>\n",
       "      <td>Rae Bareli woman alleges rape, seeks CM Yogi A...</td>\n",
       "      <td>LUCKNOW: A woman, who alleged gang rape by thr...</td>\n",
       "      <td>NaN</td>\n",
       "      <td>NaN</td>\n",
       "      <td>NaN</td>\n",
       "      <td>NaN</td>\n",
       "      <td>NaN</td>\n",
       "      <td>NaN</td>\n",
       "      <td>NaN</td>\n",
       "      <td>7</td>\n",
       "      <td>1.0</td>\n",
       "      <td>NaN</td>\n",
       "    </tr>\n",
       "    <tr>\n",
       "      <th>461</th>\n",
       "      <td>Lucknow</td>\n",
       "      <td>Top cop stirs row, says girl filed case after ...</td>\n",
       "      <td>LUCKNOW: Hours after the horrific crime in Unn...</td>\n",
       "      <td>NaN</td>\n",
       "      <td>NaN</td>\n",
       "      <td>NaN</td>\n",
       "      <td>NaN</td>\n",
       "      <td>NaN</td>\n",
       "      <td>NaN</td>\n",
       "      <td>NaN</td>\n",
       "      <td>7</td>\n",
       "      <td>1.0</td>\n",
       "      <td>NaN</td>\n",
       "    </tr>\n",
       "    <tr>\n",
       "      <th>462</th>\n",
       "      <td>Lucknow</td>\n",
       "      <td>Unnao girl passes away after 40-hour battle fo...</td>\n",
       "      <td>LUCKNOW/UNNAO: The Unnao gang-rape survivor wh...</td>\n",
       "      <td>NaN</td>\n",
       "      <td>NaN</td>\n",
       "      <td>NaN</td>\n",
       "      <td>NaN</td>\n",
       "      <td>NaN</td>\n",
       "      <td>NaN</td>\n",
       "      <td>NaN</td>\n",
       "      <td>1</td>\n",
       "      <td>1.0</td>\n",
       "      <td>NaN</td>\n",
       "    </tr>\n",
       "    <tr>\n",
       "      <th>463</th>\n",
       "      <td>Lucknow</td>\n",
       "      <td>Lucknow: Stalker thrashes dad, girl poisons he...</td>\n",
       "      <td>LUCKNOW: A 17-year-old girl consumed poison at...</td>\n",
       "      <td>NaN</td>\n",
       "      <td>NaN</td>\n",
       "      <td>NaN</td>\n",
       "      <td>NaN</td>\n",
       "      <td>NaN</td>\n",
       "      <td>NaN</td>\n",
       "      <td>NaN</td>\n",
       "      <td>3,8</td>\n",
       "      <td>NaN</td>\n",
       "      <td>1.0</td>\n",
       "    </tr>\n",
       "    <tr>\n",
       "      <th>464</th>\n",
       "      <td>Lucknow</td>\n",
       "      <td>Uttar Pradesh: Woman accuses boss of harassment</td>\n",
       "      <td>LUCKNOW: A 30-year-old employee of a real esta...</td>\n",
       "      <td>NaN</td>\n",
       "      <td>NaN</td>\n",
       "      <td>NaN</td>\n",
       "      <td>NaN</td>\n",
       "      <td>NaN</td>\n",
       "      <td>NaN</td>\n",
       "      <td>NaN</td>\n",
       "      <td>8</td>\n",
       "      <td>1.0</td>\n",
       "      <td>NaN</td>\n",
       "    </tr>\n",
       "    <tr>\n",
       "      <th>465</th>\n",
       "      <td>Lucknow</td>\n",
       "      <td>Buyer knifes fish vendor to death over Rs 10 i...</td>\n",
       "      <td>LUCKNOW: A customer knifed a fish vendor to de...</td>\n",
       "      <td>Petty Quarrels</td>\n",
       "      <td>NaN</td>\n",
       "      <td>1.0</td>\n",
       "      <td>NaN</td>\n",
       "      <td>NaN</td>\n",
       "      <td>NaN</td>\n",
       "      <td>NaN</td>\n",
       "      <td>NaN</td>\n",
       "      <td>NaN</td>\n",
       "      <td>NaN</td>\n",
       "    </tr>\n",
       "  </tbody>\n",
       "</table>\n",
       "</div>"
      ],
      "text/plain": [
       "       City                                               Title  \\\n",
       "456  Lucknow  Uttar Pradesh: Obscene posters put up in Babas...   \n",
       "457  Lucknow  Lucknow: Woman kills husband over his illicit ...   \n",
       "458  Lucknow            KGMU intern booked again for harassment   \n",
       "459  Lucknow  'Sex maniac' held in Azamgarh for rape, triple...   \n",
       "460  Lucknow  Rae Bareli woman alleges rape, seeks CM Yogi A...   \n",
       "461  Lucknow  Top cop stirs row, says girl filed case after ...   \n",
       "462  Lucknow  Unnao girl passes away after 40-hour battle fo...   \n",
       "463  Lucknow  Lucknow: Stalker thrashes dad, girl poisons he...   \n",
       "464  Lucknow    Uttar Pradesh: Woman accuses boss of harassment   \n",
       "465  Lucknow  Buyer knifes fish vendor to death over Rs 10 i...   \n",
       "\n",
       "                                                  Text  \\\n",
       "456  LUCKNOW: Cocking a snook at security arrangeme...   \n",
       "457  LUCKNOW: A woman allegedly killed her husband ...   \n",
       "458  LUCKNOW: A 2012-batch MBBS intern at KGMU, ear...   \n",
       "459  VARANASI/LUCKNOW: A week after a couple and th...   \n",
       "460  LUCKNOW: A woman, who alleged gang rape by thr...   \n",
       "461  LUCKNOW: Hours after the horrific crime in Unn...   \n",
       "462  LUCKNOW/UNNAO: The Unnao gang-rape survivor wh...   \n",
       "463  LUCKNOW: A 17-year-old girl consumed poison at...   \n",
       "464  LUCKNOW: A 30-year-old employee of a real esta...   \n",
       "465  LUCKNOW: A customer knifed a fish vendor to de...   \n",
       "\n",
       "    Murder Happened with reason:\\n1:Property/Land Disputes,\\n2:Family Dispute\\n3:Petty Quarrels,\\n4:Money Disputes, \\n5:Personal Vendetta, \\n6:Love Affairs, \\n7:Casteism\\n8: Unknown/other  \\\n",
       "456                                                NaN                                                                                                                                        \n",
       "457                                       Love Affairs                                                                                                                                        \n",
       "458                                                NaN                                                                                                                                        \n",
       "459                                    Unknown reasons                                                                                                                                        \n",
       "460                                                NaN                                                                                                                                        \n",
       "461                                                NaN                                                                                                                                        \n",
       "462                                                NaN                                                                                                                                        \n",
       "463                                                NaN                                                                                                                                        \n",
       "464                                                NaN                                                                                                                                        \n",
       "465                                     Petty Quarrels                                                                                                                                        \n",
       "\n",
       "     Number of child victims  Number of male victims(adult)  \\\n",
       "456                      NaN                            NaN   \n",
       "457                      NaN                            1.0   \n",
       "458                      NaN                            NaN   \n",
       "459                      1.0                            1.0   \n",
       "460                      NaN                            NaN   \n",
       "461                      NaN                            NaN   \n",
       "462                      NaN                            NaN   \n",
       "463                      NaN                            NaN   \n",
       "464                      NaN                            NaN   \n",
       "465                      NaN                            1.0   \n",
       "\n",
       "     Number of female victims(adult)  Kidnnaping:\\nNumber of child victims  \\\n",
       "456                              NaN                                   NaN   \n",
       "457                              NaN                                   NaN   \n",
       "458                              NaN                                   NaN   \n",
       "459                              1.0                                   NaN   \n",
       "460                              NaN                                   NaN   \n",
       "461                              NaN                                   NaN   \n",
       "462                              NaN                                   NaN   \n",
       "463                              NaN                                   NaN   \n",
       "464                              NaN                                   NaN   \n",
       "465                              NaN                                   NaN   \n",
       "\n",
       "     Number of male(adult)   Number of female(adult)  \\\n",
       "456                     NaN                      NaN   \n",
       "457                     NaN                      NaN   \n",
       "458                     NaN                      NaN   \n",
       "459                     NaN                      NaN   \n",
       "460                     NaN                      NaN   \n",
       "461                     NaN                      NaN   \n",
       "462                     NaN                      NaN   \n",
       "463                     NaN                      NaN   \n",
       "464                     NaN                      NaN   \n",
       "465                     NaN                      NaN   \n",
       "\n",
       "    Crime Against Women ( Combined ):\\n1. Murder with Rape \\n2. Dowry Deaths(Sec. 3048)\\n3. Suicide(sec 305/306)\\n4. Kidnapping(All)\\n5. Acid Attack(Sec. 326A IPC)\\n6. Cruelty by Husband/in-laws((Sec.498 A IPC)\\n7. Rape only(Sec. 376 or 511 IPC)\\n8. Assault on Women with Intent to Outrage her Modesty (Sec. 354 IPC)\\n9. Cyber Crimes against Women\\n10. Protection of Children from Sexual Offences Act  \\\n",
       "456                                                  8                                                                                                                                                                                                                                                                                                                                                             \n",
       "457                                                NaN                                                                                                                                                                                                                                                                                                                                                             \n",
       "458                                                  7                                                                                                                                                                                                                                                                                                                                                             \n",
       "459                                                  1                                                                                                                                                                                                                                                                                                                                                             \n",
       "460                                                  7                                                                                                                                                                                                                                                                                                                                                             \n",
       "461                                                  7                                                                                                                                                                                                                                                                                                                                                             \n",
       "462                                                  1                                                                                                                                                                                                                                                                                                                                                             \n",
       "463                                                3,8                                                                                                                                                                                                                                                                                                                                                             \n",
       "464                                                  8                                                                                                                                                                                                                                                                                                                                                             \n",
       "465                                                NaN                                                                                                                                                                                                                                                                                                                                                             \n",
       "\n",
       "     Number of adult victims  Number of childs invoved  \n",
       "456                      NaN                       NaN  \n",
       "457                      NaN                       NaN  \n",
       "458                      NaN                       1.0  \n",
       "459                      1.0                       1.0  \n",
       "460                      1.0                       NaN  \n",
       "461                      1.0                       NaN  \n",
       "462                      1.0                       NaN  \n",
       "463                      NaN                       1.0  \n",
       "464                      1.0                       NaN  \n",
       "465                      NaN                       NaN  "
      ]
     },
     "execution_count": 3,
     "metadata": {},
     "output_type": "execute_result"
    }
   ],
   "source": [
    "df_crime.tail(10)"
   ]
  },
  {
   "cell_type": "code",
   "execution_count": 4,
   "metadata": {
    "execution": {
     "iopub.execute_input": "2021-06-09T15:48:58.624345Z",
     "iopub.status.busy": "2021-06-09T15:48:58.624052Z",
     "iopub.status.idle": "2021-06-09T15:48:58.632195Z",
     "shell.execute_reply": "2021-06-09T15:48:58.631375Z",
     "shell.execute_reply.started": "2021-06-09T15:48:58.624316Z"
    }
   },
   "outputs": [],
   "source": [
    "df_crime = df_crime.drop(labels=['Title', 'Text'], axis=1)\n",
    "\n"
   ]
  },
  {
   "cell_type": "code",
   "execution_count": 5,
   "metadata": {
    "execution": {
     "iopub.execute_input": "2021-06-09T15:48:58.633857Z",
     "iopub.status.busy": "2021-06-09T15:48:58.633223Z",
     "iopub.status.idle": "2021-06-09T15:48:58.648607Z",
     "shell.execute_reply": "2021-06-09T15:48:58.647767Z",
     "shell.execute_reply.started": "2021-06-09T15:48:58.633823Z"
    }
   },
   "outputs": [
    {
     "data": {
      "text/plain": [
       "Index(['City ',\n",
       "       'Murder Happened with reason:\\n1:Property/Land Disputes,\\n2:Family Dispute\\n3:Petty Quarrels,\\n4:Money Disputes, \\n5:Personal Vendetta, \\n6:Love Affairs, \\n7:Casteism\\n8: Unknown/other',\n",
       "       'Number of child victims', 'Number of male victims(adult)',\n",
       "       'Number of female victims(adult)',\n",
       "       'Kidnnaping:\\nNumber of child victims', 'Number of male(adult) ',\n",
       "       'Number of female(adult)',\n",
       "       'Crime Against Women ( Combined ):\\n1. Murder with Rape \\n2. Dowry Deaths(Sec. 3048)\\n3. Suicide(sec 305/306)\\n4. Kidnapping(All)\\n5. Acid Attack(Sec. 326A IPC)\\n6. Cruelty by Husband/in-laws((Sec.498 A IPC)\\n7. Rape only(Sec. 376 or 511 IPC)\\n8. Assault on Women with Intent to Outrage her Modesty (Sec. 354 IPC)\\n9. Cyber Crimes against Women\\n10. Protection of Children from Sexual Offences Act',\n",
       "       'Number of adult victims', 'Number of childs invoved'],\n",
       "      dtype='object')"
      ]
     },
     "execution_count": 5,
     "metadata": {},
     "output_type": "execute_result"
    }
   ],
   "source": [
    "df_crime.columns"
   ]
  },
  {
   "cell_type": "code",
   "execution_count": 6,
   "metadata": {
    "execution": {
     "iopub.execute_input": "2021-06-09T15:48:58.650145Z",
     "iopub.status.busy": "2021-06-09T15:48:58.649713Z",
     "iopub.status.idle": "2021-06-09T15:48:58.664975Z",
     "shell.execute_reply": "2021-06-09T15:48:58.663982Z",
     "shell.execute_reply.started": "2021-06-09T15:48:58.650101Z"
    }
   },
   "outputs": [],
   "source": [
    "df_crime.columns = ['City', 'Murder Reason', 'Child Victims', 'Adult Male Victims', 'Adult Female Victims', 'Kidnapped Child', 'Kidnapped Adult Male', 'Kidnapped Adult Female', 'Crime Against Women(Act)', 'Adult Victims', 'Children Involved']"
   ]
  },
  {
   "cell_type": "code",
   "execution_count": 7,
   "metadata": {
    "execution": {
     "iopub.execute_input": "2021-06-09T15:48:58.666652Z",
     "iopub.status.busy": "2021-06-09T15:48:58.666168Z",
     "iopub.status.idle": "2021-06-09T15:48:58.688768Z",
     "shell.execute_reply": "2021-06-09T15:48:58.687589Z",
     "shell.execute_reply.started": "2021-06-09T15:48:58.666617Z"
    }
   },
   "outputs": [
    {
     "data": {
      "text/plain": [
       "City                          0\n",
       "Murder Reason               319\n",
       "Child Victims               453\n",
       "Adult Male Victims          371\n",
       "Adult Female Victims        419\n",
       "Kidnapped Child             455\n",
       "Kidnapped Adult Male        458\n",
       "Kidnapped Adult Female      463\n",
       "Crime Against Women(Act)    266\n",
       "Adult Victims               350\n",
       "Children Involved           381\n",
       "dtype: int64"
      ]
     },
     "execution_count": 7,
     "metadata": {},
     "output_type": "execute_result"
    }
   ],
   "source": [
    "df_crime.isnull().sum()"
   ]
  },
  {
   "cell_type": "code",
   "execution_count": 8,
   "metadata": {
    "execution": {
     "iopub.execute_input": "2021-06-09T15:48:58.690577Z",
     "iopub.status.busy": "2021-06-09T15:48:58.690161Z",
     "iopub.status.idle": "2021-06-09T15:48:58.706404Z",
     "shell.execute_reply": "2021-06-09T15:48:58.704922Z",
     "shell.execute_reply.started": "2021-06-09T15:48:58.690545Z"
    }
   },
   "outputs": [],
   "source": [
    "df_crime = df_crime.fillna(0)"
   ]
  },
  {
   "cell_type": "code",
   "execution_count": 9,
   "metadata": {
    "execution": {
     "iopub.execute_input": "2021-06-09T15:48:58.708832Z",
     "iopub.status.busy": "2021-06-09T15:48:58.708556Z",
     "iopub.status.idle": "2021-06-09T15:48:58.739100Z",
     "shell.execute_reply": "2021-06-09T15:48:58.738337Z",
     "shell.execute_reply.started": "2021-06-09T15:48:58.708804Z"
    }
   },
   "outputs": [
    {
     "data": {
      "text/html": [
       "<div>\n",
       "<style scoped>\n",
       "    .dataframe tbody tr th:only-of-type {\n",
       "        vertical-align: middle;\n",
       "    }\n",
       "\n",
       "    .dataframe tbody tr th {\n",
       "        vertical-align: top;\n",
       "    }\n",
       "\n",
       "    .dataframe thead th {\n",
       "        text-align: right;\n",
       "    }\n",
       "</style>\n",
       "<table border=\"1\" class=\"dataframe\">\n",
       "  <thead>\n",
       "    <tr style=\"text-align: right;\">\n",
       "      <th></th>\n",
       "      <th>City</th>\n",
       "      <th>Murder Reason</th>\n",
       "      <th>Child Victims</th>\n",
       "      <th>Adult Male Victims</th>\n",
       "      <th>Adult Female Victims</th>\n",
       "      <th>Kidnapped Child</th>\n",
       "      <th>Kidnapped Adult Male</th>\n",
       "      <th>Kidnapped Adult Female</th>\n",
       "      <th>Crime Against Women(Act)</th>\n",
       "      <th>Adult Victims</th>\n",
       "      <th>Children Involved</th>\n",
       "    </tr>\n",
       "  </thead>\n",
       "  <tbody>\n",
       "    <tr>\n",
       "      <th>0</th>\n",
       "      <td>Ghaziabad</td>\n",
       "      <td>0</td>\n",
       "      <td>0.0</td>\n",
       "      <td>0.0</td>\n",
       "      <td>0.0</td>\n",
       "      <td>0.0</td>\n",
       "      <td>0.0</td>\n",
       "      <td>0.0</td>\n",
       "      <td>8,10</td>\n",
       "      <td>0.0</td>\n",
       "      <td>3.0</td>\n",
       "    </tr>\n",
       "    <tr>\n",
       "      <th>1</th>\n",
       "      <td>Ghaziabad</td>\n",
       "      <td>0</td>\n",
       "      <td>0.0</td>\n",
       "      <td>0.0</td>\n",
       "      <td>0.0</td>\n",
       "      <td>0.0</td>\n",
       "      <td>0.0</td>\n",
       "      <td>0.0</td>\n",
       "      <td>0</td>\n",
       "      <td>0.0</td>\n",
       "      <td>0.0</td>\n",
       "    </tr>\n",
       "    <tr>\n",
       "      <th>2</th>\n",
       "      <td>Ghaziabad</td>\n",
       "      <td>0</td>\n",
       "      <td>0.0</td>\n",
       "      <td>0.0</td>\n",
       "      <td>0.0</td>\n",
       "      <td>0.0</td>\n",
       "      <td>0.0</td>\n",
       "      <td>0.0</td>\n",
       "      <td>0</td>\n",
       "      <td>0.0</td>\n",
       "      <td>0.0</td>\n",
       "    </tr>\n",
       "    <tr>\n",
       "      <th>3</th>\n",
       "      <td>Ghaziabad</td>\n",
       "      <td>0</td>\n",
       "      <td>0.0</td>\n",
       "      <td>0.0</td>\n",
       "      <td>0.0</td>\n",
       "      <td>0.0</td>\n",
       "      <td>0.0</td>\n",
       "      <td>0.0</td>\n",
       "      <td>0</td>\n",
       "      <td>0.0</td>\n",
       "      <td>0.0</td>\n",
       "    </tr>\n",
       "    <tr>\n",
       "      <th>4</th>\n",
       "      <td>Ghaziabad</td>\n",
       "      <td>0</td>\n",
       "      <td>0.0</td>\n",
       "      <td>0.0</td>\n",
       "      <td>0.0</td>\n",
       "      <td>0.0</td>\n",
       "      <td>0.0</td>\n",
       "      <td>0.0</td>\n",
       "      <td>0</td>\n",
       "      <td>0.0</td>\n",
       "      <td>0.0</td>\n",
       "    </tr>\n",
       "  </tbody>\n",
       "</table>\n",
       "</div>"
      ],
      "text/plain": [
       "        City Murder Reason  Child Victims  Adult Male Victims  \\\n",
       "0  Ghaziabad             0            0.0                 0.0   \n",
       "1  Ghaziabad             0            0.0                 0.0   \n",
       "2  Ghaziabad             0            0.0                 0.0   \n",
       "3  Ghaziabad             0            0.0                 0.0   \n",
       "4  Ghaziabad             0            0.0                 0.0   \n",
       "\n",
       "   Adult Female Victims  Kidnapped Child  Kidnapped Adult Male  \\\n",
       "0                   0.0              0.0                   0.0   \n",
       "1                   0.0              0.0                   0.0   \n",
       "2                   0.0              0.0                   0.0   \n",
       "3                   0.0              0.0                   0.0   \n",
       "4                   0.0              0.0                   0.0   \n",
       "\n",
       "   Kidnapped Adult Female Crime Against Women(Act)  Adult Victims  \\\n",
       "0                     0.0                     8,10            0.0   \n",
       "1                     0.0                        0            0.0   \n",
       "2                     0.0                        0            0.0   \n",
       "3                     0.0                        0            0.0   \n",
       "4                     0.0                        0            0.0   \n",
       "\n",
       "   Children Involved  \n",
       "0                3.0  \n",
       "1                0.0  \n",
       "2                0.0  \n",
       "3                0.0  \n",
       "4                0.0  "
      ]
     },
     "execution_count": 9,
     "metadata": {},
     "output_type": "execute_result"
    }
   ],
   "source": [
    "df_crime.head(5)"
   ]
  },
  {
   "cell_type": "code",
   "execution_count": 10,
   "metadata": {
    "execution": {
     "iopub.execute_input": "2021-06-09T15:48:58.740727Z",
     "iopub.status.busy": "2021-06-09T15:48:58.740375Z",
     "iopub.status.idle": "2021-06-09T15:48:58.880233Z",
     "shell.execute_reply": "2021-06-09T15:48:58.878954Z",
     "shell.execute_reply.started": "2021-06-09T15:48:58.740701Z"
    }
   },
   "outputs": [
    {
     "data": {
      "image/png": "[encoded data removed]",
      "text/plain": [
       "<Figure size 432x288 with 1 Axes>"
      ]
     },
     "metadata": {
      "needs_background": "light"
     },
     "output_type": "display_data"
    }
   ],
   "source": [
    "sns.countplot(data=df_crime, x='City', order=df_crime['City'].value_counts().index);"
   ]
  },
  {
   "cell_type": "code",
   "execution_count": 11,
   "metadata": {
    "execution": {
     "iopub.execute_input": "2021-06-09T15:48:58.881531Z",
     "iopub.status.busy": "2021-06-09T15:48:58.881292Z",
     "iopub.status.idle": "2021-06-09T15:48:59.076646Z",
     "shell.execute_reply": "2021-06-09T15:48:59.075420Z",
     "shell.execute_reply.started": "2021-06-09T15:48:58.881480Z"
    }
   },
   "outputs": [
    {
     "data": {
      "image/png": "[encoded data removed]",
      "text/plain": [
       "<Figure size 1440x720 with 1 Axes>"
      ]
     },
     "metadata": {
      "needs_background": "light"
     },
     "output_type": "display_data"
    }
   ],
   "source": [
    "df_murder_reasons = df_crime[df_crime['Murder Reason'].isin([0, 'Unknown reasons']) == False]\n",
    "\n",
    "plt.figure(figsize=(20,10))\n",
    "sns.countplot(data=df_murder_reasons, x='Murder Reason', order=df_murder_reasons['Murder Reason'].value_counts().index);"
   ]
  },
  {
   "cell_type": "code",
   "execution_count": 32,
   "metadata": {
    "execution": {
     "iopub.execute_input": "2021-06-09T16:02:56.206615Z",
     "iopub.status.busy": "2021-06-09T16:02:56.206204Z",
     "iopub.status.idle": "2021-06-09T16:02:56.642964Z",
     "shell.execute_reply": "2021-06-09T16:02:56.641362Z",
     "shell.execute_reply.started": "2021-06-09T16:02:56.206590Z"
    }
   },
   "outputs": [
    {
     "data": {
      "image/png": "[encoded data removed]",
      "text/plain": [
       "<Figure size 1440x1440 with 3 Axes>"
      ]
     },
     "metadata": {
      "needs_background": "light"
     },
     "output_type": "display_data"
    }
   ],
   "source": [
    "fig, axes = plt.subplots( len(df_murder_reasons['City'].unique()), 1, figsize=(20,20))\n",
    "i = 0\n",
    "for ct in df_murder_reasons['City'].unique():\n",
    "    sns.countplot(data=df_murder_reasons[df_murder_reasons['City'] == ct], x='Murder Reason', order=df_murder_reasons[df_murder_reasons['City'] == ct]['Murder Reason'].value_counts().index, ax = axes[i]).set(title=ct);\n",
    "    i+=1"
   ]
  },
  {
   "cell_type": "code",
   "execution_count": 12,
   "metadata": {},
   "outputs": [
    {
     "data": {
      "text/plain": [
       "0      0.0\n",
       "1      0.0\n",
       "2      0.0\n",
       "3      0.0\n",
       "4      0.0\n",
       "      ... \n",
       "461    1.0\n",
       "462    1.0\n",
       "463    0.0\n",
       "464    1.0\n",
       "465    0.0\n",
       "Name: Adult Victims, Length: 466, dtype: float64"
      ]
     },
     "execution_count": 12,
     "metadata": {},
     "output_type": "execute_result"
    }
   ],
   "source": [
    "df_crime.iloc[:,9]"
   ]
  },
  {
   "cell_type": "code",
   "execution_count": null,
   "metadata": {},
   "outputs": [],
   "source": []
  }
 ],
 "metadata": {
  "kernelspec": {
   "display_name": "Python 3",
   "language": "python",
   "name": "python3"
  },
  "language_info": {
   "codemirror_mode": {
    "name": "ipython",
    "version": 3
   },
   "file_extension": ".py",
   "mimetype": "text/x-python",
   "name": "python",
   "nbconvert_exporter": "python",
   "pygments_lexer": "ipython3",
   "version": "3.6.13"
  }
 },
 "nbformat": 4,
 "nbformat_minor": 4
}
